{
  "cells": [
    {
      "cell_type": "code",
      "execution_count": 4,
      "metadata": {
        "colab": {
          "base_uri": "https://localhost:8080/"
        },
        "id": "ZzqF4ebpAceL",
        "outputId": "6d37bf2a-0a03-41e0-af27-71f238ca59f6"
      },
      "outputs": [
        {
          "name": "stdout",
          "output_type": "stream",
          "text": [
            "Collecting pgmpy\n",
            "  Using cached pgmpy-0.1.25-py3-none-any.whl.metadata (6.4 kB)\n",
            "Requirement already satisfied: networkx in c:\\users\\admin\\appdata\\local\\programs\\python\\python310\\lib\\site-packages (from pgmpy) (3.3)\n",
            "Requirement already satisfied: numpy in c:\\users\\admin\\appdata\\local\\programs\\python\\python310\\lib\\site-packages (from pgmpy) (1.24.2)\n",
            "Requirement already satisfied: scipy in c:\\users\\admin\\appdata\\local\\programs\\python\\python310\\lib\\site-packages (from pgmpy) (1.10.1)\n",
            "Requirement already satisfied: scikit-learn in c:\\users\\admin\\appdata\\local\\programs\\python\\python310\\lib\\site-packages (from pgmpy) (1.2.2)\n",
            "Requirement already satisfied: pandas in c:\\users\\admin\\appdata\\local\\programs\\python\\python310\\lib\\site-packages (from pgmpy) (1.5.3)\n",
            "Requirement already satisfied: pyparsing in c:\\users\\admin\\appdata\\local\\programs\\python\\python310\\lib\\site-packages (from pgmpy) (3.0.9)\n",
            "Collecting torch (from pgmpy)\n",
            "  Using cached torch-2.3.0-cp310-cp310-win_amd64.whl.metadata (26 kB)\n",
            "Collecting statsmodels (from pgmpy)\n",
            "  Using cached statsmodels-0.14.2-cp310-cp310-win_amd64.whl.metadata (9.5 kB)\n",
            "Requirement already satisfied: tqdm in c:\\users\\admin\\appdata\\local\\programs\\python\\python310\\lib\\site-packages (from pgmpy) (4.65.0)\n",
            "Requirement already satisfied: joblib in c:\\users\\admin\\appdata\\local\\programs\\python\\python310\\lib\\site-packages (from pgmpy) (1.2.0)\n",
            "Requirement already satisfied: opt-einsum in c:\\users\\admin\\appdata\\local\\programs\\python\\python310\\lib\\site-packages (from pgmpy) (3.3.0)\n",
            "Requirement already satisfied: python-dateutil>=2.8.1 in c:\\users\\admin\\appdata\\local\\programs\\python\\python310\\lib\\site-packages (from pandas->pgmpy) (2.8.2)\n",
            "Requirement already satisfied: pytz>=2020.1 in c:\\users\\admin\\appdata\\local\\programs\\python\\python310\\lib\\site-packages (from pandas->pgmpy) (2022.5)\n",
            "Requirement already satisfied: threadpoolctl>=2.0.0 in c:\\users\\admin\\appdata\\local\\programs\\python\\python310\\lib\\site-packages (from scikit-learn->pgmpy) (3.1.0)\n",
            "Requirement already satisfied: patsy>=0.5.6 in c:\\users\\admin\\appdata\\local\\programs\\python\\python310\\lib\\site-packages (from statsmodels->pgmpy) (0.5.6)\n",
            "Requirement already satisfied: packaging>=21.3 in c:\\users\\admin\\appdata\\local\\programs\\python\\python310\\lib\\site-packages (from statsmodels->pgmpy) (23.0)\n",
            "Requirement already satisfied: filelock in c:\\users\\admin\\appdata\\roaming\\python\\python310\\site-packages (from torch->pgmpy) (3.13.1)\n",
            "Requirement already satisfied: typing-extensions>=4.8.0 in c:\\users\\admin\\appdata\\local\\programs\\python\\python310\\lib\\site-packages (from torch->pgmpy) (4.11.0)\n",
            "Requirement already satisfied: sympy in c:\\users\\admin\\appdata\\local\\programs\\python\\python310\\lib\\site-packages (from torch->pgmpy) (1.12)\n",
            "Requirement already satisfied: jinja2 in c:\\users\\admin\\appdata\\local\\programs\\python\\python310\\lib\\site-packages (from torch->pgmpy) (3.1.3)\n",
            "Collecting fsspec (from torch->pgmpy)\n",
            "  Using cached fsspec-2024.3.1-py3-none-any.whl.metadata (6.8 kB)\n",
            "Requirement already satisfied: mkl<=2021.4.0,>=2021.1.1 in c:\\users\\admin\\appdata\\local\\programs\\python\\python310\\lib\\site-packages (from torch->pgmpy) (2021.4.0)\n",
            "Requirement already satisfied: colorama in c:\\users\\admin\\appdata\\local\\programs\\python\\python310\\lib\\site-packages (from tqdm->pgmpy) (0.4.6)\n",
            "Requirement already satisfied: intel-openmp==2021.* in c:\\users\\admin\\appdata\\local\\programs\\python\\python310\\lib\\site-packages (from mkl<=2021.4.0,>=2021.1.1->torch->pgmpy) (2021.4.0)\n",
            "Requirement already satisfied: tbb==2021.* in c:\\users\\admin\\appdata\\local\\programs\\python\\python310\\lib\\site-packages (from mkl<=2021.4.0,>=2021.1.1->torch->pgmpy) (2021.12.0)\n",
            "Requirement already satisfied: six in c:\\users\\admin\\appdata\\local\\programs\\python\\python310\\lib\\site-packages (from patsy>=0.5.6->statsmodels->pgmpy) (1.16.0)\n",
            "Requirement already satisfied: MarkupSafe>=2.0 in c:\\users\\admin\\appdata\\local\\programs\\python\\python310\\lib\\site-packages (from jinja2->torch->pgmpy) (2.0.1)\n",
            "Requirement already satisfied: mpmath>=0.19 in c:\\users\\admin\\appdata\\local\\programs\\python\\python310\\lib\\site-packages (from sympy->torch->pgmpy) (1.3.0)\n",
            "Using cached pgmpy-0.1.25-py3-none-any.whl (2.0 MB)\n",
            "Using cached statsmodels-0.14.2-cp310-cp310-win_amd64.whl (9.8 MB)\n",
            "Using cached torch-2.3.0-cp310-cp310-win_amd64.whl (159.8 MB)\n",
            "Using cached fsspec-2024.3.1-py3-none-any.whl (171 kB)\n",
            "Installing collected packages: fsspec, torch, statsmodels, pgmpy\n",
            "Successfully installed fsspec-2024.3.1 pgmpy-0.1.25 statsmodels-0.14.2 torch-2.3.0\n",
            "Note: you may need to restart the kernel to use updated packages.\n"
          ]
        }
      ],
      "source": [
        "pip install pgmpy"
      ]
    },
    {
      "cell_type": "code",
      "execution_count": 5,
      "metadata": {
        "colab": {
          "base_uri": "https://localhost:8080/"
        },
        "id": "NYhOySc10gyM",
        "outputId": "330f4b03-b216-40cc-bf02-358358cf12ea"
      },
      "outputs": [
        {
          "name": "stdout",
          "output_type": "stream",
          "text": [
            "Probability of Earthquake given John and Mary call:\n",
            "+---------------+-------------------+\n",
            "| Earthquake    |   phi(Earthquake) |\n",
            "+===============+===================+\n",
            "| Earthquake(0) |            0.9999 |\n",
            "+---------------+-------------------+\n",
            "| Earthquake(1) |            0.0001 |\n",
            "+---------------+-------------------+\n"
          ]
        }
      ],
      "source": [
        "from pgmpy.models import BayesianNetwork\n",
        "from pgmpy.factors.discrete import TabularCPD\n",
        "from pgmpy.inference import VariableElimination\n",
        "\n",
        "model = BayesianNetwork([('Burglary', 'Alarm'), ('Earthquake', 'Alarm'), ('Alarm', 'JohnCalls'), ('Alarm', 'MaryCalls')])\n",
        "\n",
        "cpd_burglary = TabularCPD(variable='Burglary', variable_card=2, values=[[0.999], [0.001]])\n",
        "cpd_earthquake = TabularCPD(variable='Earthquake', variable_card=2, values=[[0.998], [0.002]])\n",
        "cpd_alarm = TabularCPD(variable='Alarm', variable_card=2,\n",
        "                       values=[[0.05, 0.94, 0.29, 0.999],\n",
        "                               [0.95, 0.06, 0.71, 0.001]],\n",
        "                       evidence=['Burglary', 'Earthquake'], evidence_card=[2, 2])\n",
        "cpd_john_calls = TabularCPD(variable='JohnCalls', variable_card=2,\n",
        "                            values=[[0.95, 0.05],\n",
        "                                    [0.05, 0.95]],\n",
        "                            evidence=['Alarm'], evidence_card=[2])\n",
        "cpd_mary_calls = TabularCPD(variable='MaryCalls', variable_card=2,\n",
        "                            values=[[0.80, 0.01],\n",
        "                                    [0.20, 0.99]],\n",
        "                            evidence=['Alarm'], evidence_card=[2])\n",
        "\n",
        "model.add_cpds(cpd_burglary, cpd_earthquake, cpd_alarm, cpd_john_calls, cpd_mary_calls)\n",
        "\n",
        "assert model.check_model()\n",
        "\n",
        "inference = VariableElimination(model)\n",
        "probability = inference.query(variables=['Earthquake'], evidence={'Alarm': True, 'JohnCalls': True, 'MaryCalls': True})\n",
        "\n",
        "print(\"Probability of Earthquake given John and Mary call:\")\n",
        "print(probability)"
      ]
    }
  ],
  "metadata": {
    "colab": {
      "provenance": []
    },
    "kernelspec": {
      "display_name": "Python 3",
      "name": "python3"
    },
    "language_info": {
      "codemirror_mode": {
        "name": "ipython",
        "version": 3
      },
      "file_extension": ".py",
      "mimetype": "text/x-python",
      "name": "python",
      "nbconvert_exporter": "python",
      "pygments_lexer": "ipython3",
      "version": "3.10.10"
    }
  },
  "nbformat": 4,
  "nbformat_minor": 0
}
